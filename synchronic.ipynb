{
 "cells": [
  {
   "cell_type": "code",
   "execution_count": 20,
   "metadata": {},
   "outputs": [],
   "source": [
    "from nltk.corpus import brown\n",
    "from nltk import FreqDist\n",
    "from gensim.models import KeyedVectors\n",
    "from sklearn.metrics.pairwise import cosine_similarity\n",
    "from scipy.stats import pearsonr"
   ]
  },
  {
   "cell_type": "markdown",
   "metadata": {},
   "source": [
    "### Step 1: Initializing W"
   ]
  },
  {
   "cell_type": "code",
   "execution_count": 21,
   "metadata": {},
   "outputs": [],
   "source": [
    "# words from RG65\n",
    "words = [\n",
    "    \"cord\", \"rooster\", \"noon\", \"fruit\", \"autograph\", \"automobile\", \"mound\", \"grin\", \"asylum\",\n",
    "    \"asylum\", \"graveyard\", \"glass\", \"boy\", \"cushion\", \"monk\", \"asylum\", \"coast\", \"grin\", \n",
    "    \"shore\", \"monk\", \"boy\", \"automobile\", \"mound\", \"lad\", \"forest\", \"food\", \"cemetery\", \n",
    "    \"shore\", \"bird\", \"coast\", \"furnace\", \"crane\", \"smile\", \"voyage\", \"string\", \"furnace\", \n",
    "    \"shore\", \"wizard\", \"stove\", \"implement\", \"fruit\", \"monk\", \"madhouse\", \"magician\", \n",
    "    \"rooster\", \"jewel\", \"slave\", \"cemetery\", \"forest\", \"lad\", \"woodland\", \"oracle\", \"sage\", \n",
    "    \"cushion\", \"shore\", \"wizard\", \"graveyard\", \"rooster\", \"woodland\", \"voyage\", \"woodland\", \n",
    "    \"hill\", \"implement\", \"hill\", \"car\", \"cemetery\", \"glass\", \"magician\", \"crane\", \"brother\", \n",
    "    \"sage\", \"oracle\", \"bird\", \"bird\", \"food\", \"brother\", \"asylum\", \"furnace\", \"magician\", \n",
    "    \"hill\", \"cord\", \"glass\", \"grin\", \"serf\", \"journey\", \"autograph\", \"coast\", \"forest\", \n",
    "    \"implement\", \"cock\", \"boy\", \"cushion\", \"cemetery\", \"automobile\", \"midday\", \"gem\", \n",
    "    \"woodland\", \"journey\", \"mound\", \"jewel\", \"oracle\", \"implement\", \"lad\", \"wizard\", \"sage\", \n",
    "    \"crane\", \"cock\", \"fruit\", \"monk\", \"madhouse\", \"stove\", \"wizard\", \"mound\", \"string\", \n",
    "    \"tumbler\", \"smile\", \"slave\", \"voyage\", \"signature\", \"shore\", \"woodland\", \"tool\", \n",
    "    \"rooster\", \"lad\", \"pillow\", \"graveyard\", \"car\", \"noon\", \"jewel\"]"
   ]
  },
  {
   "cell_type": "code",
   "execution_count": 22,
   "metadata": {},
   "outputs": [],
   "source": [
    "words_lowercased = [word.lower() for word in brown.words()]\n",
    "fdist = FreqDist(words_lowercased)\n",
    "W = [word for word in fdist.most_common(5000)]\n",
    "\n",
    "\n",
    "fdist = FreqDist(words)\n",
    "words_freq = list(fdist.items())\n",
    "existing_words = set([word[0] for word in W])\n",
    "\n",
    "# trying not to add duplicates\n",
    "for word in words_freq:\n",
    "    if word[0] not in existing_words:\n",
    "        W.append(word)\n",
    "W = sorted(W, key=lambda x: x[1])\n",
    "W_words = [word[0] for word in W]\n",
    "\n",
    "\n",
    "pairs_in_W = [('cord', 'smile'), ('rooster', 'voyage'), ('noon', 'string'), ('fruit', 'furnace'), ('autograph', 'shore'), ('automobile', 'wizard'), ('mound', 'stove'), ('grin', 'implement'), ('asylum', 'fruit'), ('asylum', 'monk'), ('graveyard', 'madhouse'), ('glass', 'magician'), ('boy', 'rooster'), ('cushion', 'jewel'), ('monk', 'slave'), ('asylum', 'cemetery'), ('coast', 'forest'), ('grin', 'lad'), ('shore', 'woodland'), ('monk', 'oracle'), ('boy', 'sage'), ('automobile', 'cushion'), ('mound', 'shore'), ('lad', 'wizard'), ('forest', 'graveyard'), ('food', 'rooster'), ('cemetery', 'woodland'), ('shore', 'voyage'), ('bird', 'woodland'), ('coast', 'hill'), ('furnace', 'implement'), ('crane', 'rooster'), ('hill', 'woodland'), ('car', 'journey'), ('cemetery', 'mound'), ('glass', 'jewel'), ('magician', 'oracle'), ('crane', 'implement'), ('brother', 'lad'), ('sage', 'wizard'), ('oracle', 'sage'), ('bird', 'crane'), ('bird', 'cock'), ('food', 'fruit'), ('brother', 'monk'), ('asylum', 'madhouse'), ('furnace', 'stove'), ('magician', 'wizard'), ('hill', 'mound'), ('cord', 'string'), ('glass', 'tumbler'), ('grin', 'smile'), ('serf', 'slave'), ('journey', 'voyage'), ('autograph', 'signature'), ('coast', 'shore'), ('forest', 'woodland'), ('implement', 'tool'), ('cock', 'rooster'), ('boy', 'lad'), ('cushion', 'pillow'), ('automobile', 'car'), ('midday', 'noon'), ('gem', 'jewel')]\n",
    "relevant_words = set(word for pair in pairs_in_W for word in pair)"
   ]
  },
  {
   "cell_type": "markdown",
   "metadata": {},
   "source": [
    "Using Gensim to extract embeddings"
   ]
  },
  {
   "cell_type": "code",
   "execution_count": 23,
   "metadata": {},
   "outputs": [],
   "source": [
    "model = KeyedVectors.load_word2vec_format('GoogleNews-vectors-negative300.bin', binary=True)"
   ]
  },
  {
   "cell_type": "code",
   "execution_count": 24,
   "metadata": {},
   "outputs": [],
   "source": [
    "# extracting pairs\n",
    "word_pairs_with_scores = {\n",
    "    (\"cord\", \"smile\"): 0.02,\n",
    "    (\"rooster\", \"voyage\"): 0.04,\n",
    "    (\"noon\", \"string\"): 0.04,\n",
    "    (\"fruit\", \"furnace\"): 0.05,\n",
    "    (\"autograph\", \"shore\"): 0.06,\n",
    "    (\"automobile\", \"wizard\"): 0.11,\n",
    "    (\"mound\", \"stove\"): 0.14,\n",
    "    (\"grin\", \"implement\"): 0.18,\n",
    "    (\"asylum\", \"fruit\"): 0.19,\n",
    "    (\"asylum\", \"monk\"): 0.39,\n",
    "    (\"graveyard\", \"madhouse\"): 0.42,\n",
    "    (\"glass\", \"magician\"): 0.44,\n",
    "    (\"boy\", \"rooster\"): 0.44,\n",
    "    (\"cushion\", \"jewel\"): 0.45,\n",
    "    (\"monk\", \"slave\"): 0.57,\n",
    "    (\"asylum\", \"cemetery\"): 0.79,\n",
    "    (\"coast\", \"forest\"): 0.88,\n",
    "    (\"grin\", \"lad\"): 0.88,\n",
    "    (\"shore\", \"woodland\"): 0.90,\n",
    "    (\"monk\", \"oracle\"): 0.91,\n",
    "    (\"boy\", \"sage\"): 0.96,\n",
    "    (\"automobile\", \"cushion\"): 0.97,\n",
    "    (\"mound\", \"shore\"): 0.97,\n",
    "    (\"lad\", \"wizard\"): 0.99,\n",
    "    (\"forest\", \"graveyard\"): 1.00,\n",
    "    (\"food\", \"rooster\"): 1.09,\n",
    "    (\"cemetery\", \"woodland\"): 1.18,\n",
    "    (\"shore\", \"voyage\"): 1.22,\n",
    "    (\"bird\", \"woodland\"): 1.24,\n",
    "    (\"coast\", \"hill\"): 1.26,\n",
    "    (\"furnace\", \"implement\"): 1.37,\n",
    "    (\"crane\", \"rooster\"): 1.41,\n",
    "    (\"hill\", \"woodland\"): 1.48,\n",
    "    (\"car\", \"journey\"): 1.55,\n",
    "    (\"cemetery\", \"mound\"): 1.69,\n",
    "    (\"glass\", \"jewel\"): 1.78,\n",
    "    (\"magician\", \"oracle\"): 1.82,\n",
    "    (\"crane\", \"implement\"): 2.37,\n",
    "    (\"brother\", \"lad\"): 2.41,\n",
    "    (\"sage\", \"wizard\"): 2.46,\n",
    "    (\"oracle\", \"sage\"): 2.61,\n",
    "    (\"bird\", \"crane\"): 2.63,\n",
    "    (\"bird\", \"cock\"): 2.63,\n",
    "    (\"food\", \"fruit\"): 2.69,\n",
    "    (\"brother\", \"monk\"): 2.74,\n",
    "    (\"asylum\", \"madhouse\"): 3.04,\n",
    "    (\"furnace\", \"stove\"): 3.11,\n",
    "    (\"magician\", \"wizard\"): 3.21,\n",
    "    (\"hill\", \"mound\"): 3.29,\n",
    "    (\"cord\", \"string\"): 3.41,\n",
    "    (\"glass\", \"tumbler\"): 3.45,\n",
    "    (\"grin\", \"smile\"): 3.46,\n",
    "    (\"serf\", \"slave\"): 3.46,\n",
    "    (\"journey\", \"voyage\"): 3.58,\n",
    "    (\"autograph\", \"signature\"): 3.59,\n",
    "    (\"coast\", \"shore\"): 3.60,\n",
    "    (\"forest\", \"woodland\"): 3.65,\n",
    "    (\"implement\", \"tool\"): 3.66,\n",
    "    (\"cock\", \"rooster\"): 3.68,\n",
    "    (\"boy\", \"lad\"): 3.82,\n",
    "    (\"cushion\", \"pillow\"): 3.84,\n",
    "    (\"cemetry\", \"graveyard\"): 3.88,\n",
    "    (\"automobile\", \"car\"): 3.92,\n",
    "    (\"midday\", \"noon\"): 3.94,\n",
    "    (\"gem\", \"jewel\"): 3.94}\n",
    "\n",
    "updated_words_pairs_with_scores = {}\n",
    "for words, score in word_pairs_with_scores.items():\n",
    "    if words[0] in relevant_words and words[1] in relevant_words:\n",
    "        updated_words_pairs_with_scores[words] = score\n",
    "\n",
    "word_pairs_with_scores = updated_words_pairs_with_scores"
   ]
  },
  {
   "cell_type": "markdown",
   "metadata": {},
   "source": [
    "### Step 3: Calculate cosine distance between each pair of word embeddings you have extracted, and report the Pearson correlation between word2vec-based and human similarities."
   ]
  },
  {
   "cell_type": "code",
   "execution_count": 25,
   "metadata": {},
   "outputs": [],
   "source": [
    "word2vec_similarities = []\n",
    "\n",
    "for pair, _ in word_pairs_with_scores.items():\n",
    "    word1, word2 = pair\n",
    "    embedding1 = model[word1]\n",
    "    embedding2 = model[word2]\n",
    "    similarity = cosine_similarity([embedding1], [embedding2])[0][0]\n",
    "    word2vec_similarities.append(similarity)\n",
    "\n",
    "word2vec_distances = [1 - s for s in word2vec_similarities]"
   ]
  },
  {
   "cell_type": "code",
   "execution_count": 26,
   "metadata": {},
   "outputs": [
    {
     "name": "stdout",
     "output_type": "stream",
     "text": [
      "Pearson correlation between word2vec-based and human similarities: 0.7627\n"
     ]
    }
   ],
   "source": [
    "human_similarities = list(word_pairs_with_scores.values())\n",
    "correlation, _ = pearsonr(human_similarities, word2vec_similarities)\n",
    "print(f\"Pearson correlation between word2vec-based and human similarities: {correlation:.4f}\")"
   ]
  },
  {
   "cell_type": "markdown",
   "metadata": {},
   "source": [
    "### Step 4: Evaluate Analogies"
   ]
  },
  {
   "cell_type": "code",
   "execution_count": 32,
   "metadata": {},
   "outputs": [
    {
     "name": "stdout",
     "output_type": "stream",
     "text": [
      "Word2Vec accuracy on semantic analogies: 0.7415366839976892\n",
      "Word2Vec accuracy on syntactic analogies: 0.7390163934426229\n"
     ]
    }
   ],
   "source": [
    "# For semantic analogies\n",
    "accuracy_semantic = model.evaluate_word_analogies('semantic-test.txt')\n",
    "print('Word2Vec accuracy on semantic analogies:', accuracy_semantic[0])\n",
    "\n",
    "# For syntactic analogies\n",
    "accuracy_syntactic = model.evaluate_word_analogies('syntactic-test.txt')\n",
    "print('Word2Vec accuracy on syntactic analogies:', accuracy_syntactic[0])"
   ]
  },
  {
   "cell_type": "markdown",
   "metadata": {},
   "source": [
    "#### Step 4.2: Evaluating Analogies for filtered tests (fairness)"
   ]
  },
  {
   "cell_type": "code",
   "execution_count": 34,
   "metadata": {},
   "outputs": [
    {
     "name": "stdout",
     "output_type": "stream",
     "text": [
      "Word2Vec accuracy on semantic analogies: 0.8888888888888888\n",
      "Word2Vec accuracy on syntactic analogies: 0.6787286063569682\n"
     ]
    }
   ],
   "source": [
    "# for semantic analogies\n",
    "accuracy_semantic = model.evaluate_word_analogies('filtered-semantic-test.txt')\n",
    "print('Word2Vec accuracy on semantic analogies:', accuracy_semantic[0])\n",
    "\n",
    "# for syntactic analogies\n",
    "accuracy_syntactic = model.evaluate_word_analogies('filtered-syntactic-test.txt')\n",
    "print('Word2Vec accuracy on syntactic analogies:', accuracy_syntactic[0])"
   ]
  },
  {
   "cell_type": "markdown",
   "metadata": {},
   "source": [
    "#### NOTE: Analogy tests for LSA in the basic exercise file."
   ]
  }
 ],
 "metadata": {
  "kernelspec": {
   "display_name": "Python 3",
   "language": "python",
   "name": "python3"
  },
  "language_info": {
   "codemirror_mode": {
    "name": "ipython",
    "version": 3
   },
   "file_extension": ".py",
   "mimetype": "text/x-python",
   "name": "python",
   "nbconvert_exporter": "python",
   "pygments_lexer": "ipython3",
   "version": "3.9.1"
  }
 },
 "nbformat": 4,
 "nbformat_minor": 2
}
