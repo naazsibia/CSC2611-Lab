{
 "cells": [
  {
   "cell_type": "code",
   "execution_count": 53,
   "metadata": {},
   "outputs": [],
   "source": [
    "from nltk.corpus import brown\n",
    "from nltk import FreqDist\n",
    "from gensim.models import KeyedVectors\n",
    "from scipy.stats import pearsonr\n",
    "import numpy as np\n",
    "from scipy.spatial.distance import cosine"
   ]
  },
  {
   "cell_type": "markdown",
   "metadata": {},
   "source": [
    "Load data"
   ]
  },
  {
   "cell_type": "code",
   "execution_count": 54,
   "metadata": {},
   "outputs": [],
   "source": [
    "import pickle\n",
    "with open(\"embeddings/data.pkl\", \"rb\") as file:\n",
    "    data = pickle.load(file)\n",
    "\n",
    "words = data['w']\n",
    "dataset = data['d']\n",
    "embeddings = data['E']\n"
   ]
  },
  {
   "cell_type": "code",
   "execution_count": 55,
   "metadata": {},
   "outputs": [],
   "source": [
    "# cosine distance between the first and last decade\n",
    "def method_1(embeddings):\n",
    "    return cosine(embeddings[0], embeddings[-1])"
   ]
  },
  {
   "cell_type": "code",
   "execution_count": 56,
   "metadata": {},
   "outputs": [],
   "source": [
    "# maximum cosine distance between each consecutive decade\n",
    "def method_2(embeddings):\n",
    "    return max([cosine(embeddings[i], embeddings[i+1]) for i in range(len(embeddings)-1)])"
   ]
  },
  {
   "cell_type": "code",
   "execution_count": 57,
   "metadata": {},
   "outputs": [],
   "source": [
    "# average cosine distance per decade change\n",
    "def method_3(embeddings):\n",
    "    return np.mean([cosine(embeddings[i], embeddings[i+1]) for i in range(len(embeddings)-1)])"
   ]
  },
  {
   "cell_type": "code",
   "execution_count": 58,
   "metadata": {},
   "outputs": [
    {
     "name": "stderr",
     "output_type": "stream",
     "text": [
      "/Library/Frameworks/Python.framework/Versions/3.9/lib/python3.9/site-packages/scipy/spatial/distance.py:699: RuntimeWarning: invalid value encountered in double_scalars\n",
      "  dist = 1.0 - uv / np.sqrt(uu * vv)\n"
     ]
    }
   ],
   "source": [
    "changes_method_1 = [method_1(embeddings[i]) for i in range(len(words))]\n",
    "changes_method_2 = [method_2(embeddings[i]) for i in range(len(words))]\n",
    "changes_method_3 = [method_3(embeddings[i]) for i in range(len(words))]"
   ]
  },
  {
   "cell_type": "markdown",
   "metadata": {},
   "source": [
    "### Top 20 words for each method"
   ]
  },
  {
   "cell_type": "code",
   "execution_count": 59,
   "metadata": {},
   "outputs": [
    {
     "name": "stdout",
     "output_type": "stream",
     "text": [
      "Top 20 most changing words for method1_change:\n",
      "programs 0.9908060408371938\n",
      "objectives 0.9777930257849913\n",
      "computer 0.9612410643483436\n",
      "radio 0.9052701147159458\n",
      "sector 0.9006836366602485\n",
      "goals 0.8451478071876328\n",
      "approach 0.8398605922816097\n",
      "van 0.8367483908002056\n",
      "shri 0.8244319851175984\n",
      "media 0.8125349168703303\n",
      "impact 0.8000341939038889\n",
      "perspective 0.7931199949661135\n",
      "patterns 0.7823269040416171\n",
      "berkeley 0.7779084933889083\n",
      "shift 0.776931638140915\n",
      "film 0.7759189348198611\n",
      "assessment 0.7681167960046129\n",
      "stanford 0.7674790427852327\n",
      "challenge 0.766492057078026\n",
      "therapy 0.7608242054204954\n",
      "\n",
      "\n",
      "Top 20 least changing words for method1_change:\n",
      "week 0.31992764436258936\n",
      "feet 0.3186646029282473\n",
      "september 0.31786901281959457\n",
      "god 0.3150845082973782\n",
      "december 0.31373757998712104\n",
      "daughter 0.3116770598907621\n",
      "months 0.30972055852261215\n",
      "century 0.30730617145950145\n",
      "january 0.30179555011777637\n",
      "increase 0.30143007605515715\n",
      "october 0.2971440393982766\n",
      "years 0.2907269356601365\n",
      "february 0.28636454155874524\n",
      "november 0.28257345338302986\n",
      "june 0.26117633777734006\n",
      "april 0.23520659498473628\n",
      "techniques 0\n",
      "skills 0\n",
      "mcgraw 0\n",
      "ml 0\n",
      "\n",
      "\n",
      "Top 20 most changing words for method2_change:\n",
      "goals 0.8130367729696195\n",
      "objectives 0.784954459225548\n",
      "sector 0.7826242550430104\n",
      "programs 0.7803853473044335\n",
      "evaluation 0.7220513948993461\n",
      "input 0.6704809481151852\n",
      "computer 0.6495017414274433\n",
      "therapy 0.6097121634550429\n",
      "wiley 0.5583554750025512\n",
      "procedures 0.5536798600512522\n",
      "jobs 0.5491489796485626\n",
      "variables 0.5465507334422427\n",
      "mcgraw 0.5294737950240758\n",
      "implications 0.5290753104671779\n",
      "radio 0.5279140165621112\n",
      "techniques 0.5249691673651553\n",
      "jones 0.5150343399200839\n",
      "technology 0.48963985347727434\n",
      "stanford 0.48476045289705805\n",
      "van 0.48139773871083213\n",
      "\n",
      "\n",
      "Top 20 least changing words for method2_change:\n",
      "july 0.20421226399470593\n",
      "decrease 0.20303917761804335\n",
      "buildings 0.20199637691072014\n",
      "evening 0.20183799565580995\n",
      "blood 0.2017647044024612\n",
      "cent 0.19721861816286868\n",
      "duties 0.19668501051292597\n",
      "century 0.19646055330172263\n",
      "vessels 0.19393638164284188\n",
      "february 0.19392661799843114\n",
      "june 0.19370809480583806\n",
      "feet 0.1928758065816628\n",
      "solution 0.19171622358001483\n",
      "miles 0.1895590172158279\n",
      "trees 0.18787762707053313\n",
      "september 0.18213465808999396\n",
      "january 0.17858601662329965\n",
      "december 0.17496916626572034\n",
      "november 0.1630237256815359\n",
      "april 0.159225826968319\n",
      "\n",
      "\n",
      "Top 20 most changing words for method3_change:\n",
      "harper 0.4218641973428585\n",
      "jones 0.421545930229956\n",
      "sector 0.40813755852709077\n",
      "berkeley 0.40242577427040416\n",
      "wiley 0.40180988218949515\n",
      "baltimore 0.39948142316999863\n",
      "martin 0.3989017685908187\n",
      "princeton 0.397504963154833\n",
      "wilson 0.38913859009354623\n",
      "adams 0.388595633611828\n",
      "therapy 0.3802632677603036\n",
      "johnson 0.3798559346841236\n",
      "goals 0.3793205619838076\n",
      "haven 0.37544568355206387\n",
      "philip 0.3753910677217866\n",
      "evaluation 0.37474425599853883\n",
      "j 0.37411166105419597\n",
      "publications 0.35679463781011467\n",
      "stanford 0.35630708140094014\n",
      "maryland 0.351950952473268\n",
      "\n",
      "\n",
      "Top 20 least changing words for method3_change:\n",
      "patients 0.17872623933869403\n",
      "june 0.17844347760159837\n",
      "buildings 0.1781837116067897\n",
      "temperature 0.17493479679956295\n",
      "october 0.17337466802029647\n",
      "decrease 0.17294493153505264\n",
      "july 0.17229224030056914\n",
      "solution 0.17194469738776588\n",
      "cent 0.17126553336769673\n",
      "trees 0.16887604731611086\n",
      "vessels 0.16871407254704066\n",
      "university 0.16863035357091258\n",
      "february 0.16704471652217243\n",
      "december 0.15970125896401985\n",
      "january 0.15930077112104674\n",
      "september 0.15568818857413008\n",
      "november 0.1546709772451684\n",
      "miles 0.1518278736362257\n",
      "april 0.1452030423064727\n",
      "shri 0.12383425154551181\n",
      "\n",
      "\n"
     ]
    }
   ],
   "source": [
    "words_changes = list(zip(words, changes_method_1, changes_method_2, changes_method_3))\n",
    "\n",
    "for index, method in enumerate([\"method1_change\", \"method2_change\", \"method3_change\"]):\n",
    "    sorted_by_change = sorted(words_changes, key=lambda x: x[index+1], reverse=True)  # Sorting by the change for the specific method\n",
    "\n",
    "    top_20_most = sorted_by_change[:20]\n",
    "    top_20_least = sorted_by_change[-20:]\n",
    "\n",
    "    print(f\"Top 20 most changing words for {method}:\")\n",
    "    for item in top_20_most:\n",
    "        print(item[0], item[index+1])  # Only printing lemma and its corresponding score\n",
    "    print(\"\\n\")\n",
    "    \n",
    "    print(f\"Top 20 least changing words for {method}:\")\n",
    "    for item in top_20_least:\n",
    "        print(item[0], item[index+1])  # Only printing lemma and its corresponding score\n",
    "    print(\"\\n\")"
   ]
  },
  {
   "cell_type": "markdown",
   "metadata": {},
   "source": [
    "### Measure the intercorrelations (of semantic change in all words, given the embeddings from Step 1) among the three methods you have proposed and summarize the Pearson correlations in a 3-by-3 table"
   ]
  },
  {
   "cell_type": "code",
   "execution_count": 60,
   "metadata": {},
   "outputs": [
    {
     "name": "stdout",
     "output_type": "stream",
     "text": [
      "[[1.         0.61023698 0.64038365]\n",
      " [0.61023698 1.         0.81572133]\n",
      " [0.64038365 0.81572133 1.        ]]\n"
     ]
    }
   ],
   "source": [
    "\n",
    "\n",
    "cor_12, _ = pearsonr(changes_method_1, changes_method_2)\n",
    "cor_13, _ = pearsonr(changes_method_1, changes_method_3)\n",
    "cor_23, _ = pearsonr(changes_method_2, changes_method_3)\n",
    "\n",
    "correlation_matrix = np.array([[1, cor_12, cor_13],\n",
    "                               [cor_12, 1, cor_23],\n",
    "                               [cor_13, cor_23, 1]])\n",
    "\n",
    "print(correlation_matrix)"
   ]
  },
  {
   "cell_type": "markdown",
   "metadata": {},
   "source": [
    "### Accuracy Test"
   ]
  },
  {
   "cell_type": "code",
   "execution_count": 61,
   "metadata": {},
   "outputs": [],
   "source": [
    "def get_embeddings(lemma): # only adding lemmas in words\n",
    "    if lemma in words:\n",
    "        index = words.index(lemma)\n",
    "        return embeddings[index]\n",
    "    else:\n",
    "        return None"
   ]
  },
  {
   "cell_type": "code",
   "execution_count": 62,
   "metadata": {},
   "outputs": [
    {
     "name": "stdout",
     "output_type": "stream",
     "text": [
      "3285\n"
     ]
    }
   ],
   "source": [
    "import pandas as pd\n",
    "df = pd.read_csv('aggregate.csv')\n",
    "df['sim_score_list'] = df['sim_score'].str.split()\n",
    "df['sim_score_list'] = df['sim_score_list'].apply(lambda x: [int(score) for score in x])\n",
    "df['sim_score_mean'] = df['sim_score_list'].apply(np.mean) # taking average score\n",
    "# only looking at highest scores\n",
    "df = df.sort_values(by='sim_score_mean', ascending=False).drop_duplicates(subset='lemma', keep='first')\n",
    "df['sim_score_mean'] = df['sim_score_mean'] / 4 # making scores more comparable\n",
    "valid_lemmas = df['lemma'].apply(lambda lemma: lemma in words)\n",
    "\n",
    "# Compute semantic changes for valid lemmas using each method\n",
    "df.loc[valid_lemmas, 'method_1_change'] = df[valid_lemmas]['lemma'].apply(lambda lemma: method_1(get_embeddings(lemma)))\n",
    "df.loc[valid_lemmas, 'method_2_change'] = df[valid_lemmas]['lemma'].apply(lambda lemma: method_2(get_embeddings(lemma)))\n",
    "df.loc[valid_lemmas, 'method_3_change'] = df[valid_lemmas]['lemma'].apply(lambda lemma: method_3(get_embeddings(lemma)))"
   ]
  },
  {
   "cell_type": "code",
   "execution_count": 63,
   "metadata": {},
   "outputs": [
    {
     "name": "stdout",
     "output_type": "stream",
     "text": [
      "Pearson correlation for Method 1: 0.960132915191522\n",
      "Pearson correlation for Method 2: 0.878203900604992\n",
      "Pearson correlation for Method 3: 0.7860157388397276\n"
     ]
    }
   ],
   "source": [
    "# calculate correlations between each method's results and human judgments\n",
    "df = df.dropna(subset = ['method_1_change', 'method_2_change', 'method_3_change'])\n",
    "correlation_method_1, _ = pearsonr(df['sim_score_mean'], df['method_1_change'])\n",
    "correlation_method_2, _ = pearsonr(df['sim_score_mean'], df['method_2_change'])\n",
    "correlation_method_3, _ = pearsonr(df['sim_score_mean'], df['method_3_change'])\n",
    "\n",
    "print(f\"Pearson correlation for Method 1: {correlation_method_1}\")\n",
    "print(f\"Pearson correlation for Method 2: {correlation_method_2}\")\n",
    "print(f\"Pearson correlation for Method 3: {correlation_method_3}\")"
   ]
  },
  {
   "cell_type": "markdown",
   "metadata": {},
   "source": [
    "### Get top 3 words with method 1"
   ]
  },
  {
   "cell_type": "code",
   "execution_count": 64,
   "metadata": {},
   "outputs": [
    {
     "data": {
      "text/plain": [
       "['signal', 'card', 'mirror']"
      ]
     },
     "execution_count": 64,
     "metadata": {},
     "output_type": "execute_result"
    }
   ],
   "source": [
    "sorted_df = df.sort_values(by='method_1_change', ascending=False)\n",
    "unique_df = sorted_df.drop_duplicates(subset='lemma', keep='first')\n",
    "top_3_lemmas = unique_df['lemma'].head(3).tolist()\n",
    "top_3_lemmas"
   ]
  },
  {
   "cell_type": "markdown",
   "metadata": {},
   "source": [
    "### Detecting Change in Point"
   ]
  },
  {
   "cell_type": "code",
   "execution_count": 65,
   "metadata": {},
   "outputs": [
    {
     "data": {
      "image/png": "[encoded data removed]",
      "text/plain": [
       "<Figure size 432x288 with 1 Axes>"
      ]
     },
     "metadata": {
      "needs_background": "light"
     },
     "output_type": "display_data"
    },
    {
     "data": {
      "image/png": "[encoded data removed]",
      "text/plain": [
       "<Figure size 432x288 with 1 Axes>"
      ]
     },
     "metadata": {
      "needs_background": "light"
     },
     "output_type": "display_data"
    },
    {
     "data": {
      "image/png": "[encoded data removed]",
      "text/plain": [
       "<Figure size 432x288 with 1 Axes>"
      ]
     },
     "metadata": {
      "needs_background": "light"
     },
     "output_type": "display_data"
    }
   ],
   "source": [
    "import matplotlib.pyplot as plt\n",
    "\n",
    "decades = list(range(1900, 2010, 10))\n",
    "\n",
    "def detect_change_points(similarities, threshold=0.1):\n",
    "    change_points = [i for i in range(1, len(similarities)) if abs(similarities[i] - similarities[i-1]) > threshold] \n",
    "    return change_points\n",
    "\n",
    "\n",
    "for word in top_3_lemmas:\n",
    "    word_embeddings = get_embeddings(word)\n",
    "    similarities = [1 - cosine([word_embeddings[0]], [word_embeddings[i]]) for i in range(len(word_embeddings))]\n",
    "    change_points = detect_change_points(similarities)\n",
    "    plt.figure()\n",
    "    plt.plot(range(len(similarities)), similarities, label='Cosine Similarity to t=0')\n",
    "    for cp in change_points:\n",
    "        plt.axvline(x=cp, color='r', linestyle='--')\n",
    "    plt.title(f'Time Course of Similarities for {word}')\n",
    "    plt.xlabel('Time')\n",
    "    plt.ylabel('Cosine Similarity to t=0')\n",
    "    plt.legend()\n",
    "    plt.show()\n"
   ]
  }
 ],
 "metadata": {
  "kernelspec": {
   "display_name": "Python 3",
   "language": "python",
   "name": "python3"
  },
  "language_info": {
   "codemirror_mode": {
    "name": "ipython",
    "version": 3
   },
   "file_extension": ".py",
   "mimetype": "text/x-python",
   "name": "python",
   "nbconvert_exporter": "python",
   "pygments_lexer": "ipython3",
   "version": "3.9.1"
  }
 },
 "nbformat": 4,
 "nbformat_minor": 2
}
